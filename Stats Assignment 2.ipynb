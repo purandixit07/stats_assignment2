{
 "cells": [
  {
   "cell_type": "markdown",
   "id": "2dc077b5",
   "metadata": {},
   "source": [
    "# Q 1"
   ]
  },
  {
   "cell_type": "raw",
   "id": "d76620fe",
   "metadata": {},
   "source": [
    "H0 : mu = 25, H1: mu=! 25\n",
    "correctly stated hypothesis problem, because in alternate hypothesis, we are rejecting the original hypothesis that mu is not equal to 25."
   ]
  },
  {
   "cell_type": "raw",
   "id": "f5f2ec75",
   "metadata": {},
   "source": [
    "H0 : sigma >10, H1: sigma =10\n",
    "correctly stated hypothesis problem, because in alternate hypothesis, we are rejecting the original hypothesis that sigma is not greater than 10, it is exactly 10."
   ]
  },
  {
   "cell_type": "raw",
   "id": "dab5de65",
   "metadata": {},
   "source": [
    "H0 : xbar = 50, H1: xbar=! 50\n",
    "correctly stated hypothesis problem, because in alternate hypothesis, we are rejecting the original hypothesis that xbar is not equal to 50."
   ]
  },
  {
   "cell_type": "raw",
   "id": "6bd9fae7",
   "metadata": {},
   "source": [
    "H0 : p = 0.1, H1: p=0.5\n",
    "correctly stated hypothesis problem, because in alternate hypothesis, we are rejecting the original hypothesis that p is not 0.1 but0.5."
   ]
  },
  {
   "cell_type": "raw",
   "id": "da5211d9",
   "metadata": {},
   "source": [
    "H0 : s = 30, H1: s>30\n",
    "correctly stated hypothesis problem, because in alternate hypothesis, we are rejecting the original hypothesis that s is not equa; to 30 but it is greater than 30."
   ]
  },
  {
   "cell_type": "markdown",
   "id": "ff4e9a05",
   "metadata": {},
   "source": [
    "# Q 2"
   ]
  },
  {
   "cell_type": "markdown",
   "id": "7bf71d11",
   "metadata": {},
   "source": [
    "given \n",
    "mu = 52, sigma = 4.5, n=100, xbar = 52.8\n",
    "z = (xbar-mu)/sigma/n^0.5\n",
    "z = (52.8-52)/4.5/(100)^0.5"
   ]
  },
  {
   "cell_type": "code",
   "execution_count": 4,
   "id": "822084a4",
   "metadata": {},
   "outputs": [
    {
     "data": {
      "text/plain": [
       "1.7777777777777715"
      ]
     },
     "execution_count": 4,
     "metadata": {},
     "output_type": "execute_result"
    }
   ],
   "source": [
    "z = (52.8-52)/(4.5/(100)**(1/2))\n",
    "z"
   ]
  },
  {
   "cell_type": "markdown",
   "id": "460b5980",
   "metadata": {},
   "source": [
    "H0: mu = 52\n",
    "H1: mu>52\n",
    "its a one tail test\n",
    "alpha = 0.05\n",
    "zc = 1.645\n",
    "as our value of z lies in critical region we reject the null hypothesis and average cost of textbooks is higher thann claimed by bookstore. "
   ]
  },
  {
   "cell_type": "markdown",
   "id": "1643b95d",
   "metadata": {},
   "source": [
    "# Q3"
   ]
  },
  {
   "cell_type": "markdown",
   "id": "e2c30f69",
   "metadata": {},
   "source": [
    "given: mu = 34ppm, sigma = 8ppm, alpha = 0.01, n=50, xbar = 32.5,\n",
    "H0: mu < 34\n",
    "H1: mu>=34\n",
    "its a on tail test.\n",
    "z= 32.5-34/(8/50^0.5)\n"
   ]
  },
  {
   "cell_type": "code",
   "execution_count": 1,
   "id": "95fa5e98",
   "metadata": {},
   "outputs": [
    {
     "data": {
      "text/plain": [
       "-1.3258252147247767"
      ]
     },
     "execution_count": 1,
     "metadata": {},
     "output_type": "execute_result"
    }
   ],
   "source": [
    "z= (32.5-34)/(8/50**0.5)\n",
    "z"
   ]
  },
  {
   "cell_type": "markdown",
   "id": "1b7a05b5",
   "metadata": {},
   "source": [
    "zc = -2.325. as z does not lie in failure region. we failed to reject the null hypothesis and the claim of the company is correct."
   ]
  },
  {
   "cell_type": "markdown",
   "id": "8bbcdbba",
   "metadata": {},
   "source": [
    "# Q4"
   ]
  },
  {
   "cell_type": "markdown",
   "id": "9771b9e9",
   "metadata": {},
   "source": [
    "given: 1008, 812, 1117, 1323, 1308, 1415, 831, 1021, 1287, 851, 930, 730, 699,\n",
    "872, 913, 944, 954, 987, 1695, 995, 1003, 994"
   ]
  },
  {
   "cell_type": "code",
   "execution_count": 3,
   "id": "d0c970a5",
   "metadata": {},
   "outputs": [],
   "source": [
    "l = [1008, 812, 1117, 1323, 1308, 1415, 831, 1021, 1287, 851, 930, 730, 699,872, 913, 944, 954, 987, 1695, 995, 1003, 994]"
   ]
  },
  {
   "cell_type": "code",
   "execution_count": 6,
   "id": "2f17db57",
   "metadata": {},
   "outputs": [
    {
     "data": {
      "text/plain": [
       "22"
      ]
     },
     "execution_count": 6,
     "metadata": {},
     "output_type": "execute_result"
    }
   ],
   "source": [
    "len(l)"
   ]
  },
  {
   "cell_type": "code",
   "execution_count": 4,
   "id": "c9e99b1a",
   "metadata": {},
   "outputs": [
    {
     "name": "stdout",
     "output_type": "stream",
     "text": [
      "22689\n"
     ]
    },
    {
     "data": {
      "text/plain": [
       "1031.3181818181818"
      ]
     },
     "execution_count": 4,
     "metadata": {},
     "output_type": "execute_result"
    }
   ],
   "source": [
    "a = 0\n",
    "for i in range(len(l)):\n",
    "    a = a + l[i] \n",
    "print(a)\n",
    "    \n",
    "mean= a/len(l)\n",
    "mean"
   ]
  },
  {
   "cell_type": "code",
   "execution_count": 7,
   "id": "3d18df70",
   "metadata": {},
   "outputs": [
    {
     "data": {
      "text/plain": [
       "240.37458592463878"
      ]
     },
     "execution_count": 7,
     "metadata": {},
     "output_type": "execute_result"
    }
   ],
   "source": [
    "a = 0\n",
    "for i in range(len(l)):\n",
    "    a = a + (l[i]-mean)**2\n",
    "    \n",
    "b= a/(len(l)-1) \n",
    "std_dev = b**0.5\n",
    "std_dev"
   ]
  },
  {
   "cell_type": "markdown",
   "id": "67fbdfef",
   "metadata": {},
   "source": [
    "H0: mu = 1135\n",
    "H1: mu !=1135\n",
    "its a two tailed test.\n",
    "alpha = 0.05,"
   ]
  },
  {
   "cell_type": "code",
   "execution_count": 9,
   "id": "a0e6d8a2",
   "metadata": {},
   "outputs": [
    {
     "data": {
      "text/plain": [
       "-2.023137479931484"
      ]
     },
     "execution_count": 9,
     "metadata": {},
     "output_type": "execute_result"
    }
   ],
   "source": [
    "tscore = (mean-1135)/(std_dev/(len(l)**0.5))\n",
    "tscore"
   ]
  },
  {
   "cell_type": "markdown",
   "id": "b8d69d6b",
   "metadata": {},
   "source": [
    "tc=-2.08, as tscore does not lie in rejection region, we faied to reject the null hypothesis. conclusion: claim of mu=1135 is false."
   ]
  },
  {
   "cell_type": "markdown",
   "id": "5578168c",
   "metadata": {},
   "source": [
    "# Q5"
   ]
  },
  {
   "cell_type": "markdown",
   "id": "3971131c",
   "metadata": {},
   "source": [
    "H0: mu= 48432\n",
    "H1: mu!= 48432\n",
    "assumption: significance level=0.05"
   ]
  },
  {
   "cell_type": "code",
   "execution_count": 11,
   "id": "be66e6cb",
   "metadata": {},
   "outputs": [
    {
     "data": {
      "text/plain": [
       "1.42"
      ]
     },
     "execution_count": 11,
     "metadata": {},
     "output_type": "execute_result"
    }
   ],
   "source": [
    "z = (48574-48432)/(2000/(400)**0.5)\n",
    "z"
   ]
  },
  {
   "cell_type": "markdown",
   "id": "53280da6",
   "metadata": {},
   "source": [
    "zc = 1.96, as our z value does not lie in rejection region, we failed to reject the null hypothesis."
   ]
  },
  {
   "cell_type": "markdown",
   "id": "f131eb7f",
   "metadata": {},
   "source": [
    "# Q6"
   ]
  },
  {
   "cell_type": "markdown",
   "id": "9ff5f994",
   "metadata": {},
   "source": [
    "H0: mu = 32.28\n",
    "H1: mu!= 32.28\n",
    "alpha = 0.05, xbar = 31.67, s = 1.29, n=19"
   ]
  },
  {
   "cell_type": "code",
   "execution_count": 12,
   "id": "cf91e6cf",
   "metadata": {},
   "outputs": [
    {
     "data": {
      "text/plain": [
       "-2.06118477175179"
      ]
     },
     "execution_count": 12,
     "metadata": {},
     "output_type": "execute_result"
    }
   ],
   "source": [
    "tscore =(31.67-32.28)/(1.29/(19)**0.5)\n",
    "tscore"
   ]
  },
  {
   "cell_type": "markdown",
   "id": "634ce720",
   "metadata": {},
   "source": [
    "tc = -2.101 for df = 18\n",
    "as our t score does not lie in critical region, we failed to reject the null hypothesis. and the claim is correct."
   ]
  },
  {
   "cell_type": "markdown",
   "id": "cfd52d5c",
   "metadata": {},
   "source": [
    "# Q7"
   ]
  },
  {
   "cell_type": "markdown",
   "id": "e803e66f",
   "metadata": {},
   "source": []
  },
  {
   "cell_type": "code",
   "execution_count": null,
   "id": "4dcbff52",
   "metadata": {},
   "outputs": [],
   "source": []
  },
  {
   "cell_type": "code",
   "execution_count": null,
   "id": "f1bc74b4",
   "metadata": {},
   "outputs": [],
   "source": []
  },
  {
   "cell_type": "code",
   "execution_count": null,
   "id": "957e5fb2",
   "metadata": {},
   "outputs": [],
   "source": []
  },
  {
   "cell_type": "code",
   "execution_count": null,
   "id": "ac9946f0",
   "metadata": {},
   "outputs": [],
   "source": []
  },
  {
   "cell_type": "code",
   "execution_count": null,
   "id": "940a135b",
   "metadata": {},
   "outputs": [],
   "source": []
  },
  {
   "cell_type": "code",
   "execution_count": null,
   "id": "147f413f",
   "metadata": {},
   "outputs": [],
   "source": []
  }
 ],
 "metadata": {
  "kernelspec": {
   "display_name": "Python 3",
   "language": "python",
   "name": "python3"
  },
  "language_info": {
   "codemirror_mode": {
    "name": "ipython",
    "version": 3
   },
   "file_extension": ".py",
   "mimetype": "text/x-python",
   "name": "python",
   "nbconvert_exporter": "python",
   "pygments_lexer": "ipython3",
   "version": "3.8.8"
  }
 },
 "nbformat": 4,
 "nbformat_minor": 5
}
